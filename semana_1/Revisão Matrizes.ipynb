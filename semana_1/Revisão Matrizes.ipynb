{
 "cells": [
  {
   "cell_type": "code",
   "execution_count": 11,
   "id": "f037f486",
   "metadata": {},
   "outputs": [],
   "source": [
    "def cria_matriz(num_linhas, num_colunas):\n",
    "    '''(int, int) -> matriz (lista de listas)\n",
    "    Cria e retorna uma matriz com num_linhas linhas e num_colunas\n",
    "    colunas em que cada elemento é digitado pelo usuário.\n",
    "    '''\n",
    "    matriz = [] # lista vazia\n",
    "    for i in range(num_linhas):\n",
    "        # cria a linha i\n",
    "        linha = [] # lista vazia\n",
    "        for j in range(num_colunas):\n",
    "            valor = int(input(\"Digite o elemento[{}][{}]: \".format(i,j)))\n",
    "            linha.append(str(valor).zfill(2).center(4))\n",
    "        # adiciona linha à matriz\n",
    "        matriz.append(linha)\n",
    "        \n",
    "    return matriz\n",
    "\n",
    "def le_matriz():\n",
    "    lin = int(input(\"Digite o número de linhas da matriz: \"))\n",
    "    col = int(input(\"Digite o número de colunas da matriz: \"))\n",
    "    return cria_matriz(lin, col)\n",
    "\n",
    "def imprime_matriz(m):\n",
    "    num_linhas = len(m)\n",
    "    num_colunas = len(m[0])\n",
    "    for i in range(num_linhas):\n",
    "        for j in range(num_colunas):\n",
    "            if j == num_colunas - 1:\n",
    "                print(m[i][j], end='\\n')\n",
    "            else:\n",
    "                print(m[i][j], end=' ')        "
   ]
  },
  {
   "cell_type": "code",
   "execution_count": 12,
   "id": "343d1a1d",
   "metadata": {},
   "outputs": [
    {
     "name": "stdout",
     "output_type": "stream",
     "text": [
      "Digite o número de linhas da matriz: 3\n",
      "Digite o número de colunas da matriz: 4\n",
      "Digite o elemento[0][0]: 1\n",
      "Digite o elemento[0][1]: 2\n",
      "Digite o elemento[0][2]: 3\n",
      "Digite o elemento[0][3]: 4\n",
      "Digite o elemento[1][0]: 5\n",
      "Digite o elemento[1][1]: 6\n",
      "Digite o elemento[1][2]: 7\n",
      "Digite o elemento[1][3]: 8\n",
      "Digite o elemento[2][0]: 9\n",
      "Digite o elemento[2][1]: 10\n",
      "Digite o elemento[2][2]: 11\n",
      "Digite o elemento[2][3]: 12\n"
     ]
    }
   ],
   "source": [
    "m = le_matriz()"
   ]
  },
  {
   "cell_type": "code",
   "execution_count": 14,
   "id": "fb8454e8",
   "metadata": {},
   "outputs": [
    {
     "name": "stdout",
     "output_type": "stream",
     "text": [
      " 01   02   03   04 \n",
      " 05   06   07   08 \n",
      " 09   10   11   12 \n"
     ]
    }
   ],
   "source": [
    "imprime_matriz(m)"
   ]
  },
  {
   "cell_type": "code",
   "execution_count": 15,
   "id": "6266b6d2",
   "metadata": {},
   "outputs": [],
   "source": [
    "def dimensoes(matriz):\n",
    "    return \"{}X{}\".format(len(matriz),len(matriz[0]))"
   ]
  },
  {
   "cell_type": "code",
   "execution_count": 31,
   "id": "03cd07b2",
   "metadata": {},
   "outputs": [],
   "source": [
    "def matrizes_mesma_dimensao(m1, m2):\n",
    "    return dimensoes(m1) == dimensoes(m2)"
   ]
  },
  {
   "cell_type": "code",
   "execution_count": 43,
   "id": "0eba71e4",
   "metadata": {},
   "outputs": [],
   "source": [
    "def soma_matrizes(m1, m2):\n",
    "    if matrizes_mesma_dimensao(m1, m2):\n",
    "        matriz_soma = []\n",
    "        for i in range(len(m1)):\n",
    "            linha = []\n",
    "            for j in range(len(m2[0])):\n",
    "                linha.append(0)\n",
    "            matriz_soma.append(linha)\n",
    "        for i in range(len(m1)):\n",
    "            for j in range(len(m2[0])):\n",
    "                matriz_soma[i][j] = m1[i][j] + m2[i][j]\n",
    "        return matriz_soma\n",
    "    else:\n",
    "        return False"
   ]
  },
  {
   "cell_type": "code",
   "execution_count": 51,
   "id": "e603cc97",
   "metadata": {},
   "outputs": [],
   "source": [
    "m1 = [[1, 2, 3], [4, 5, 6]]\n",
    "m2 = [[7, 8, 9], [10, 11, 12]]"
   ]
  },
  {
   "cell_type": "code",
   "execution_count": 52,
   "id": "ec163980",
   "metadata": {},
   "outputs": [
    {
     "data": {
      "text/plain": [
       "[[8, 10, 12], [14, 16, 18]]"
      ]
     },
     "execution_count": 52,
     "metadata": {},
     "output_type": "execute_result"
    }
   ],
   "source": [
    "soma_matrizes(m1, m2)"
   ]
  },
  {
   "cell_type": "code",
   "execution_count": 53,
   "id": "c6c10910",
   "metadata": {},
   "outputs": [],
   "source": [
    "m1 = [[1, 2], [4, 5]]\n",
    "m2 = [[7, 8, 9], [10, 11, 12]]"
   ]
  },
  {
   "cell_type": "code",
   "execution_count": 55,
   "id": "0f7c1dd7",
   "metadata": {},
   "outputs": [
    {
     "data": {
      "text/plain": [
       "False"
      ]
     },
     "execution_count": 55,
     "metadata": {},
     "output_type": "execute_result"
    }
   ],
   "source": [
    "soma_matrizes(m1, m2)"
   ]
  },
  {
   "cell_type": "code",
   "execution_count": 2,
   "id": "a6113973",
   "metadata": {},
   "outputs": [],
   "source": [
    "def leia_matriz():\n",
    "    '''(None) -> matriz (lista de listas)\n",
    "\n",
    "    Funcao que le do teclado o numero n_linhas de linhas\n",
    "    e o numero n_colunas de colunas e os elementos de\n",
    "    uma matriz de inteiros dimensao n_linha x n_colunas.\n",
    "\n",
    "    A funcao cria e retorna a matriz lida.\n",
    "    '''\n",
    "    num_linhas = int(input(\"Digite o número de linhas: \"))\n",
    "    num_colunas = int(input(\"Digite o número de colunas: \"))\n",
    "    matriz = []\n",
    "    for i in range(num_linhas):\n",
    "        print(\"matriz = {}\".format(matriz))\n",
    "        linha = []\n",
    "        for j in range(num_colunas):\n",
    "            print(\"linha {} = {}\".format(i,linha))\n",
    "            valor = int(input(\"Digite o elemento ({},{}): \".format(i,j)))\n",
    "            # linha.append(str(valor).zfill(2).center(4))\n",
    "            linha.append(valor)\n",
    "        matriz.append(linha)\n",
    "        \n",
    "    return matriz"
   ]
  },
  {
   "cell_type": "code",
   "execution_count": 3,
   "id": "2044c737",
   "metadata": {},
   "outputs": [],
   "source": [
    "def imprima_matriz(m):\n",
    "    '''(matriz) -> None\n",
    "\n",
    "    Recebe e imprime uma matriz de inteiros.\n",
    "\n",
    "    >>> a = [[1,2,3],[2,1,4],[3,4,1]]\n",
    "    >>> a\n",
    "    [[1, 2, 3], [2, 1, 4], [3, 4, 1]]\n",
    "    >>> imprima_matriz(a)\n",
    "    Matriz: 3 x 3\n",
    "         1     2     3\n",
    "         2     1     4\n",
    "         3     4     1\n",
    "\n",
    "    '''\n",
    "    num_linhas = len(m)\n",
    "    num_colunas = len(m[0])\n",
    "    print(\"Matriz {} x {}\".format(num_linhas,num_colunas))\n",
    "    for i in range(num_linhas):\n",
    "        for j in range(num_colunas):\n",
    "            if j == num_colunas - 1:\n",
    "                print(m[i][j], end='\\n')\n",
    "            else:\n",
    "                print(m[i][j], end=' ')"
   ]
  },
  {
   "cell_type": "code",
   "execution_count": 37,
   "id": "ddd2ed59",
   "metadata": {},
   "outputs": [
    {
     "name": "stdout",
     "output_type": "stream",
     "text": [
      "Digite o número de linhas: 3\n",
      "Digite o número de colunas: 3\n",
      "matriz = []\n",
      "linha 0 = []\n",
      "Digite o elemento (0,0): 1\n",
      "linha 0 = [' 01 ']\n",
      "Digite o elemento (0,1): 2\n",
      "linha 0 = [' 01 ', ' 02 ']\n",
      "Digite o elemento (0,2): 3\n",
      "matriz = [[' 01 ', ' 02 ', ' 03 ']]\n",
      "linha 1 = []\n",
      "Digite o elemento (1,0): 4\n",
      "linha 1 = [' 04 ']\n",
      "Digite o elemento (1,1): 5\n",
      "linha 1 = [' 04 ', ' 05 ']\n",
      "Digite o elemento (1,2): 6\n",
      "matriz = [[' 01 ', ' 02 ', ' 03 '], [' 04 ', ' 05 ', ' 06 ']]\n",
      "linha 2 = []\n",
      "Digite o elemento (2,0): 7\n",
      "linha 2 = [' 07 ']\n",
      "Digite o elemento (2,1): 8\n",
      "linha 2 = [' 07 ', ' 08 ']\n",
      "Digite o elemento (2,2): 9\n"
     ]
    }
   ],
   "source": [
    "a = leia_matriz()"
   ]
  },
  {
   "cell_type": "code",
   "execution_count": 28,
   "id": "6b8a8eba",
   "metadata": {},
   "outputs": [
    {
     "data": {
      "text/plain": [
       "[[' 01 ', ' 02 ', ' 03 '], [' 04 ', ' 05 ', ' 06 '], [' 07 ', ' 08 ', ' 09 ']]"
      ]
     },
     "execution_count": 28,
     "metadata": {},
     "output_type": "execute_result"
    }
   ],
   "source": [
    "a"
   ]
  },
  {
   "cell_type": "code",
   "execution_count": 38,
   "id": "b074e1bd",
   "metadata": {},
   "outputs": [
    {
     "name": "stdout",
     "output_type": "stream",
     "text": [
      "Matriz 3 x 3\n",
      " 01   02   03 \n",
      " 04   05   06 \n",
      " 07   08   09 \n"
     ]
    }
   ],
   "source": [
    "imprima_matriz(a)"
   ]
  },
  {
   "cell_type": "code",
   "execution_count": 52,
   "id": "6d36bfd8",
   "metadata": {},
   "outputs": [
    {
     "name": "stdout",
     "output_type": "stream",
     "text": [
      "Passou no primeiro teste! :-)\n"
     ]
    }
   ],
   "source": [
    "def matriz_quadrada(matriz):\n",
    "    return len(matriz) == len(matriz[0])\n",
    "\n",
    "def matriz_transposta(matriz):\n",
    "    num_linhas = len(matriz)\n",
    "    num_colunas = len(matriz[0])\n",
    "    transposta = []\n",
    "    for i in range(num_colunas):\n",
    "        transposta.append([0]*num_linhas)\n",
    "    for i in range(num_linhas):\n",
    "        for j in range(num_colunas):\n",
    "            transposta[j][i] = matriz[i][j]\n",
    "    return transposta\n",
    "\n",
    "#-----------------------------------------------------\n",
    "def simetrica(matriz):\n",
    "    '''(matriz) -> bool\n",
    "\n",
    "    Recebe uma matriz e returna True se a matriz for simetrica,\n",
    "    em caso contrario retorna False.\n",
    "\n",
    "    Pre-condicao: a funcao supoe que a matriz e quadrada\n",
    "\n",
    "    >>> a = [[1,2,3],[2,1,4],[3,4,1]]\n",
    "    >>> a\n",
    "    [[1, 2, 3], [2, 1, 4], [3, 4, 1]]\n",
    "    >>> imprima_matriz(a)\n",
    "    Matriz: 3 x 3\n",
    "         1     2     3\n",
    "         2     1     4\n",
    "         3     4     1\n",
    "    >>> simetrica(a)\n",
    "    True\n",
    "    '''\n",
    "    # print(\"Vixe! Ainda nao fiz a funcao!\")\n",
    "    simetrica = False\n",
    "    if not matriz_quadrada(matriz):\n",
    "        return simetrica\n",
    "    else:\n",
    "        num_linhas = len(matriz)\n",
    "        num_colunas = len(matriz[0])\n",
    "        transposta = matriz_transposta(matriz)\n",
    "        for i in range(num_linhas):\n",
    "            if simetrica == True:\n",
    "                break\n",
    "            for j in range(num_colunas):\n",
    "                if matriz[i][j] != transposta[i][j]:\n",
    "                    break\n",
    "            else: # no break\n",
    "                simetrica = True\n",
    "    return simetrica\n",
    "                    \n",
    "\n",
    "#-----------------------------------------------------\n",
    "# testes\n",
    "a = [[11, -3, 4, 8], [-3, 12, 6, 11], [4, 6, 5, 13], [8, 11, 13, 5]]\n",
    "if simetrica(a):\n",
    "    print(\"Passou no primeiro teste! :-)\")\n",
    "else:\n",
    "    print(\"Nao passou no primeiro teste! :-(\")\n",
    "\n"
   ]
  },
  {
   "cell_type": "code",
   "execution_count": 57,
   "id": "1401e927",
   "metadata": {},
   "outputs": [
    {
     "name": "stdout",
     "output_type": "stream",
     "text": [
      "Matriz 2 x 3\n",
      "1 2 3\n",
      "4 5 6\n",
      "Matriz 3 x 2\n",
      "1 4\n",
      "2 5\n",
      "3 6\n"
     ]
    }
   ],
   "source": [
    "a = [[1,2,3],[4,5,6]]\n",
    "t = matriz_transposta(a)\n",
    "imprima_matriz(a)\n",
    "imprima_matriz(t)"
   ]
  },
  {
   "cell_type": "code",
   "execution_count": 58,
   "id": "cc98fe6b",
   "metadata": {},
   "outputs": [
    {
     "name": "stdout",
     "output_type": "stream",
     "text": [
      "Digite o número de linhas: 2\n",
      "Digite o número de colunas: 3\n",
      "matriz = []\n",
      "linha 0 = []\n",
      "Digite o elemento (0,0): 1\n",
      "linha 0 = [' 01 ']\n",
      "Digite o elemento (0,1): 2\n",
      "linha 0 = [' 01 ', ' 02 ']\n",
      "Digite o elemento (0,2): 3\n",
      "matriz = [[' 01 ', ' 02 ', ' 03 ']]\n",
      "linha 1 = []\n",
      "Digite o elemento (1,0): 4\n",
      "linha 1 = [' 04 ']\n",
      "Digite o elemento (1,1): 5\n",
      "linha 1 = [' 04 ', ' 05 ']\n",
      "Digite o elemento (1,2): 6\n",
      "Matriz 2 x 3\n",
      " 01   02   03 \n",
      " 04   05   06 \n",
      "Matriz 3 x 2\n",
      " 01   04 \n",
      " 02   05 \n",
      " 03   06 \n",
      "A matriz informada não é simética.\n"
     ]
    }
   ],
   "source": [
    "#-----------------------------------------------------\n",
    "def main():\n",
    "    '''\n",
    "    Programa que le n e uma matriz de inteiros n x n\n",
    "    e verifica se a matriz e simetrica.\n",
    "    '''\n",
    "    # escreva o seu programa abaixo e remova o print()\n",
    "    # print(\"Vixe! Ainda nao fiz o exercicio!\")\n",
    "    A = leia_matriz()\n",
    "    imprima_matriz(A)\n",
    "    T = matriz_transposta(A)\n",
    "    imprima_matriz(T)\n",
    "    simetrica(A)\n",
    "    if simetrica(A):\n",
    "        print(\"A matriz informada é simética.\")\n",
    "    else:\n",
    "        print(\"A matriz informada não é simética.\")\n",
    "\n",
    "#-----------------------------------------------------\n",
    "main()\n"
   ]
  },
  {
   "cell_type": "code",
   "execution_count": 69,
   "id": "110a4c72",
   "metadata": {},
   "outputs": [
    {
     "name": "stdout",
     "output_type": "stream",
     "text": [
      "Digite o número de linhas: 3\n",
      "Digite o número de colunas: 3\n",
      "matriz = []\n",
      "linha 0 = []\n",
      "Digite o elemento (0,0): 0\n",
      "linha 0 = [0]\n",
      "Digite o elemento (0,1): 1\n",
      "linha 0 = [0, 1]\n",
      "Digite o elemento (0,2): 0\n",
      "matriz = [[0, 1, 0]]\n",
      "linha 1 = []\n",
      "Digite o elemento (1,0): 0\n",
      "linha 1 = [0]\n",
      "Digite o elemento (1,1): 0\n",
      "linha 1 = [0, 0]\n",
      "Digite o elemento (1,2): 0\n",
      "matriz = [[0, 1, 0], [0, 0, 0]]\n",
      "linha 2 = []\n",
      "Digite o elemento (2,0): 1\n",
      "linha 2 = [1]\n",
      "Digite o elemento (2,1): 0\n",
      "linha 2 = [1, 0]\n",
      "Digite o elemento (2,2): 0\n",
      "Matriz 3 x 3\n",
      "0 1 0\n",
      "0 0 0\n",
      "1 0 0\n",
      "Linhas numas = 1\n",
      "Colunas numas = 1\n"
     ]
    }
   ],
   "source": [
    "#-----------------------------------------------------\n",
    "def linhas_colunas_nulas(matriz):\n",
    "    num_linhas = len(matriz)\n",
    "    num_colunas = len(matriz[0])\n",
    "    linhas_nulas = 0\n",
    "    colunas_nulas = 0\n",
    "    for i in range(num_linhas):\n",
    "        for j in range(num_colunas):\n",
    "            if matriz[i][j] != 0:\n",
    "                break\n",
    "        else:\n",
    "            linhas_nulas += 1\n",
    "    for i in range(num_colunas):\n",
    "        for j in range(num_linhas):\n",
    "            if matriz[j][i] != 0:\n",
    "                break\n",
    "        else:\n",
    "            colunas_nulas += 1\n",
    "    return (linhas_nulas, colunas_nulas)\n",
    "\n",
    "    \n",
    "def exercicio_11_5():\n",
    "    '''\n",
    "    Programa que le uma matriz de inteiros\n",
    "    com m linha e n colunas e imprime o numero de linhas\n",
    "    e de coluna nulas da matriz.\n",
    "    '''   \n",
    "    A = leia_matriz()\n",
    "    imprima_matriz(A)\n",
    "    linhas_nulas, colunas_nulas = linhas_colunas_nulas(A)\n",
    "    print(\"Linhas numas = {}\".format(linhas_nulas))\n",
    "    print(\"Colunas numas = {}\".format(colunas_nulas))\n",
    "\n",
    "#-----------------------------------------------------\n",
    "exercicio_11_5()"
   ]
  },
  {
   "cell_type": "code",
   "execution_count": 5,
   "id": "43c3b9d3",
   "metadata": {},
   "outputs": [
    {
     "name": "stdout",
     "output_type": "stream",
     "text": [
      "Matriz 2 x 2\n",
      "2 -3\n",
      "12 4\n",
      "Passou no primeiro teste! :-)\n"
     ]
    }
   ],
   "source": [
    "def matrizes_multiplicaveis(m1, m2):\n",
    "    return len(m1[0]) == len(m2)\n",
    "\n",
    "def calcular_termo(a_mat, b_mat, linha_a_mat, coluna_b_mat):\n",
    "    termo = 0\n",
    "    num_colunas_a_mat = len(a_mat[0])\n",
    "    for i in range(num_colunas_a_mat):\n",
    "        termo += a_mat[linha_a_mat][i] * b_mat[i][coluna_b_mat]\n",
    "    return termo\n",
    "\n",
    "def multiplica_matrizes(a_mat, b_mat):\n",
    "    '''(matriz,matriz) -> matriz\n",
    "\n",
    "    Recebe duas matriz a_mat e b_mat e cria e retorna\n",
    "    a matriz produto  de a_mat por b_mat.\n",
    "\n",
    "    Pre-condicao: a funcao supoe que o numero\n",
    "       de coluna de a_mat e igual ao numero de linhas\n",
    "       de b_mat\n",
    "    '''\n",
    "    # print(\"Vixe! Ainda nao fiz a funcao!\")\n",
    "    \n",
    "    if not matrizes_multiplicaveis(a_mat, b_mat):\n",
    "        return False\n",
    "    else:\n",
    "        num_linhas = len(a_mat)\n",
    "        num_colunas = len(b_mat[0])\n",
    "        matriz_produto = []\n",
    "        for i in range(num_linhas):\n",
    "            matriz_produto.append([0]*num_colunas)\n",
    "        for i in range(num_linhas):\n",
    "            for j in range(num_colunas):\n",
    "                matriz_produto[i][j]= calcular_termo(a_mat, b_mat, i, j)\n",
    "    return matriz_produto\n",
    "        \n",
    "\n",
    "#----------------------------------------------\n",
    "# teste\n",
    "a = [ [1, 2, -1], [0, 3, 2] ]\n",
    "b = [ [1, -1], [2, 0], [3, 2] ]\n",
    "c = multiplica_matrizes(a,b)\n",
    "resultado = [ [2, -3], [12, 4] ]\n",
    "imprima_matriz(c)\n",
    "if c == resultado:\n",
    "    print(\"Passou no primeiro teste! :-)\")\n",
    "else:\n",
    "    print(\"Nao passou no primeiro teste! :-(\")\n",
    "\n",
    "# colocar mais testes abaixo\n"
   ]
  },
  {
   "cell_type": "code",
   "execution_count": 6,
   "id": "c7d1538f",
   "metadata": {},
   "outputs": [
    {
     "name": "stdout",
     "output_type": "stream",
     "text": [
      "Matriz A:\n",
      "Digite o número de linhas: 2\n",
      "Digite o número de colunas: 2\n",
      "matriz = []\n",
      "linha 0 = []\n",
      "Digite o elemento (0,0): 3\n",
      "linha 0 = [3]\n",
      "Digite o elemento (0,1): 5\n",
      "matriz = [[3, 5]]\n",
      "linha 1 = []\n",
      "Digite o elemento (1,0): 1\n",
      "linha 1 = [1]\n",
      "Digite o elemento (1,1): 2\n",
      "Matriz B:\n",
      "Digite o número de linhas: 2\n",
      "Digite o número de colunas: 2\n",
      "matriz = []\n",
      "linha 0 = []\n",
      "Digite o elemento (0,0): 2\n",
      "linha 0 = [2]\n",
      "Digite o elemento (0,1): -5\n",
      "matriz = [[2, -5]]\n",
      "linha 1 = []\n",
      "Digite o elemento (1,0): -1\n",
      "linha 1 = [-1]\n",
      "Digite o elemento (1,1): 3\n",
      "Matriz A:Matriz 2 x 2\n",
      "3 5\n",
      "1 2\n",
      "Matriz B:Matriz 2 x 2\n",
      "2 -5\n",
      "-1 3\n",
      "Matriz C:Matriz 2 x 2\n",
      "1 0\n",
      "0 1\n"
     ]
    }
   ],
   "source": [
    "#-----------------------------------------------\n",
    "def exercicio_11_7():\n",
    "    '''\n",
    "    Dados uma matriz A e uma matriz B calcula a matriz\n",
    "    produto de A por B.\n",
    "    '''\n",
    "    # escreva o seu programa abaixo e remova o print()\n",
    "    # print(\"Vixe! Ainda nao fiz o exercicio!\")\n",
    "    print(\"Matriz A:\")\n",
    "    A = leia_matriz()\n",
    "    print(\"Matriz B:\")\n",
    "    B = leia_matriz()\n",
    "    C = multiplica_matrizes(A, B)\n",
    "    print(\"Matriz A:\", end=\"\")\n",
    "    imprima_matriz(A)\n",
    "    print(\"Matriz B:\", end=\"\")\n",
    "    imprima_matriz(B)\n",
    "\n",
    "    if C == False:\n",
    "        print(\"matrizes não são multiplicáveis\")\n",
    "    else:\n",
    "        print(\"Matriz C:\", end=\"\")\n",
    "        imprima_matriz(C)\n",
    "\n",
    "#-----------------------------------------------\n",
    "exercicio_11_7()"
   ]
  }
 ],
 "metadata": {
  "kernelspec": {
   "display_name": "Python 3 (ipykernel)",
   "language": "python",
   "name": "python3"
  },
  "language_info": {
   "codemirror_mode": {
    "name": "ipython",
    "version": 3
   },
   "file_extension": ".py",
   "mimetype": "text/x-python",
   "name": "python",
   "nbconvert_exporter": "python",
   "pygments_lexer": "ipython3",
   "version": "3.9.12"
  }
 },
 "nbformat": 4,
 "nbformat_minor": 5
}
