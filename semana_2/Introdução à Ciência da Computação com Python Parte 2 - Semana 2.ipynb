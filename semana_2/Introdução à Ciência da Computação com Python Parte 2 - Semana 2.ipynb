{
 "cells": [
  {
   "cell_type": "markdown",
   "id": "245930c4",
   "metadata": {},
   "source": [
    "Escrever uma função que recebe uma lista de Strings contendo nomes de pessoas como parâmetro e devolve o nome mais curto. A função deve ignorar espaços antes e depois do nome e deve devolver o nome \"capitalizado\", i.e., apenas com a 1a letra maiúscula."
   ]
  },
  {
   "cell_type": "code",
   "execution_count": 10,
   "id": "a1d1c4b5",
   "metadata": {},
   "outputs": [
    {
     "name": "stdout",
     "output_type": "stream",
     "text": [
      "Passou no primeiro teste.\n",
      "Passou no segundo teste.\n",
      "Passou no terceiro teste.\n"
     ]
    }
   ],
   "source": [
    "def menor_nome(lista_de_nomes):\n",
    "    mais_curto = lista_de_nomes[0].strip()\n",
    "    for i in range(1,len(lista_de_nomes)):\n",
    "        if len(mais_curto) > len(lista_de_nomes[i].strip()):\n",
    "            mais_curto = lista_de_nomes[i].strip()\n",
    "    return mais_curto.capitalize()\n",
    "\n",
    "def testa_menor_nome():\n",
    "    if menor_nome(['maria', 'josé', 'PAULO', 'Catarina']) == \"José\":\n",
    "        print(\"Passou no primeiro teste.\")\n",
    "    else:\n",
    "        print(\"Não passou no primeiro teste. O nome mais curto capitalizado é José\")\n",
    "    if menor_nome(['maria', ' josé  ', '  PAULO', 'Catarina  ']) == \"José\":\n",
    "        print(\"Passou no segundo teste.\")\n",
    "    else:\n",
    "        print(\"Não passou no primeiro teste. O nome mais curto capitalizado é José\")\n",
    "    if menor_nome(['Bárbara', 'JOSÉ  ', 'Bill']) == \"José\":\n",
    "        print(\"Passou no terceiro teste.\")\n",
    "    else:\n",
    "        print(\"Não passou no primeiro teste. O nome mais curto capitalizado é José\")\n",
    "    \n",
    "    \n",
    "testa_menor_nome()        "
   ]
  },
  {
   "cell_type": "markdown",
   "id": "a4aedd58",
   "metadata": {},
   "source": [
    "Escreva uma função que recebe um array de strings como parâmetro e devolve o primeiro string na ordem lexicográfica, ignorando-se letras maiúsculas e minúsculas."
   ]
  },
  {
   "cell_type": "code",
   "execution_count": 2,
   "id": "9d37e307",
   "metadata": {},
   "outputs": [
    {
     "name": "stdout",
     "output_type": "stream",
     "text": [
      "Passou no primeiro teste.\n",
      "Passou no segundo teste.\n"
     ]
    }
   ],
   "source": [
    "def menor_string(lista_de_strings):\n",
    "    menor_string = lista_de_strings[0]\n",
    "    for i in range(1,len(lista_de_strings)):\n",
    "        if lista_de_strings[i].lower() < menor_string.lower():\n",
    "            menor_string = lista_de_strings[i]\n",
    "    return menor_string\n",
    "\n",
    "def testa_menor_string():\n",
    "    if menor_string([\"Nin\",\"Nan\"]) == \"Nan\":\n",
    "        print(\"Passou no primeiro teste.\")\n",
    "    else:\n",
    "        print(\"Não passou no primeiro teste.\")\n",
    "        print(\"O menor nome é Nan\")\n",
    "    if menor_string([\"Nin\",\"Nan\",\"Mama\"]) == \"Mama\":\n",
    "        print(\"Passou no segundo teste.\")\n",
    "    else:\n",
    "        print(\"Não passou no segundo teste.\")\n",
    "        print(\"O menor nome é Mama\")\n",
    "\n",
    "testa_menor_string()"
   ]
  },
  {
   "cell_type": "code",
   "execution_count": 7,
   "id": "254c4b23",
   "metadata": {},
   "outputs": [
    {
     "name": "stdout",
     "output_type": "stream",
     "text": [
      "Passou no primeiro teste.\n",
      "Passou no segundo teste.\n",
      "Passou no terceiro teste.\n"
     ]
    }
   ],
   "source": [
    "def maiusculas(frase):\n",
    "    ASCII_A = 65\n",
    "    ASCII_Z = 90\n",
    "    maiusculas = \"\"\n",
    "    for i in range(len(frase)):\n",
    "        if ord(frase[i]) > ASCII_A and ord(frase[i]) < ASCII_Z:\n",
    "            maiusculas += frase[i]\n",
    "    return maiusculas\n",
    "\n",
    "def testa_maiusculas():\n",
    "    if maiusculas('Programamos em python 2?') == \"P\":\n",
    "        print(\"Passou no primeiro teste.\")\n",
    "    # deve devolver 'P'\n",
    "\n",
    "    if maiusculas('Programamos em Python 3.') == \"PP\":\n",
    "        print(\"Passou no segundo teste.\")\n",
    "    # deve devolver 'PP'\n",
    "\n",
    "    if maiusculas('PrOgRaMaMoS em python!') == \"PORMMS\":\n",
    "        print(\"Passou no terceiro teste.\")\n",
    "    # deve devolver 'PORMMS'\n",
    "\n",
    "testa_maiusculas()\n",
    "    "
   ]
  },
  {
   "cell_type": "markdown",
   "id": "e3366c08",
   "metadata": {},
   "source": [
    "### Exercício 1: Contando vogais ou consoantes\n",
    "\n",
    "Escreva a função **conta_letras(frase, contar=\"vogais\")**, que recebe como primeiro parâmetro uma string contendo uma frase e como segundo parâmetro uma outra string. Este segundo parâmetro deve ser **opcional**.\n",
    "\n",
    "Quando o segundo parâmetro for definido como **\"vogais\"**, a função deve devolver o numero de vogais presentes na **frase**. Quando ele for definido como **\"consoantes\"**, a função deve devolver o número de consoantes presentes na **frase**. Se este parâmetro não for passado para a função, deve-se assumir o valor **\"vogais\"** para o parâmetro.\n",
    "\n",
    "Exemplos:"
   ]
  },
  {
   "cell_type": "code",
   "execution_count": 14,
   "id": "a941330c",
   "metadata": {},
   "outputs": [],
   "source": [
    "conta_letras('programamos em python')\n",
    "# deve devolver 6\n",
    "\n",
    "conta_letras('programamos em python', 'vogais')\n",
    "# deve devolver 6\n",
    "\n",
    "conta_letras('programamos em python', 'consoantes')\n",
    "# deve devolver 13"
   ]
  },
  {
   "cell_type": "code",
   "execution_count": 24,
   "id": "94a6e1e0",
   "metadata": {},
   "outputs": [
    {
     "name": "stdout",
     "output_type": "stream",
     "text": [
      "Passou no primeiro teste.\n",
      "Passou no segundo teste.\n",
      "Passou no terceiro teste.\n"
     ]
    }
   ],
   "source": [
    "def letra_e_vogal(letra):\n",
    "    return letra.lower() == \"a\" or \\\n",
    "    letra.lower() == \"e\" or \\\n",
    "    letra.lower() == \"i\" or \\\n",
    "    letra.lower() == \"o\" or \\\n",
    "    letra.lower() == \"u\"\n",
    "    \n",
    "def conta_letras(frase, contar=\"vogais\"):\n",
    "    \n",
    "    qtd_letras = 0\n",
    "    frase = frase.strip()\n",
    "    frase = frase.replace(\" \",\"\")\n",
    "    \n",
    "    if contar == \"consoantes\":\n",
    "        for i in range(len(frase)):\n",
    "            if ord(frase[i].lower()) > 96 and ord(frase[i].lower()) < 123 and not letra_e_vogal(frase[i]):\n",
    "                qtd_letras += 1\n",
    "            \n",
    "    elif contar == \"vogais\":\n",
    "        for i in range(len(frase)):\n",
    "            if letra_e_vogal(frase[i]):\n",
    "                qtd_letras += 1\n",
    "    return qtd_letras\n",
    "\n",
    "def testa_conta_letras():\n",
    "    if conta_letras('programamos em python') == 6:\n",
    "        print(\"Passou no primeiro teste.\")\n",
    "    # deve devolver 6\n",
    "\n",
    "    if conta_letras('programamos em python', contar=\"vogais\") == 6:\n",
    "        print(\"Passou no segundo teste.\")\n",
    "    # deve devolver 6\n",
    "\n",
    "    if conta_letras('programamos em python', contar=\"consoantes\") == 13:\n",
    "        print(\"Passou no terceiro teste.\")\n",
    "    # deve devolver 13\n",
    "\n",
    "testa_conta_letras()\n",
    "    "
   ]
  },
  {
   "cell_type": "markdown",
   "id": "eb490192",
   "metadata": {},
   "source": [
    "### Exercício 2: Ordem lexicográfica\n",
    "\n",
    "Como pedido no segundo vídeo da semana, escreva a função **primeiro_lex(lista)** que recebe uma lista de strings como parâmetro e devolve o primeiro string na ordem lexicográfica. Neste exercício, **considere** letras maiúsculas e minúsculas.\n",
    "\n",
    "**Dica:** revise a segunda vídeo-aula desta semana.\n",
    "\n",
    "Exemplos:"
   ]
  },
  {
   "cell_type": "code",
   "execution_count": null,
   "id": "89f07ecf",
   "metadata": {},
   "outputs": [],
   "source": [
    "primeiro_lex(['oĺá', 'A', 'a', 'casa'])\n",
    "# deve devolver 'A'\n",
    "\n",
    "primeiro_lex(['AAAAAA', 'b'])\n",
    "# deve devolver 'AAAAAA'"
   ]
  },
  {
   "cell_type": "code",
   "execution_count": 25,
   "id": "1354c4a3",
   "metadata": {},
   "outputs": [
    {
     "name": "stdout",
     "output_type": "stream",
     "text": [
      "Passou no primeiro teste.\n",
      "Passou no segundo teste.\n"
     ]
    }
   ],
   "source": [
    "def primeiro_lex(lista_de_strings):\n",
    "    menor_string = lista_de_strings[0]\n",
    "    for i in range(1,len(lista_de_strings)):\n",
    "        if lista_de_strings[i].lower() < menor_string.lower():\n",
    "            menor_string = lista_de_strings[i]\n",
    "    return menor_string\n",
    "\n",
    "def testa_menor_string():\n",
    "    if primeiro_lex(['oĺá', 'A', 'a', 'casa']) == \"A\":\n",
    "        print(\"Passou no primeiro teste.\")\n",
    "    else:\n",
    "        print(\"Não passou no primeiro teste.\")\n",
    "    if primeiro_lex(['AAAAAA', 'b']) == \"AAAAAA\":\n",
    "        print(\"Passou no segundo teste.\")\n",
    "    else:\n",
    "        print(\"Não passou no segundo teste.\")\n",
    "testa_menor_string()"
   ]
  }
 ],
 "metadata": {
  "kernelspec": {
   "display_name": "Python 3 (ipykernel)",
   "language": "python",
   "name": "python3"
  },
  "language_info": {
   "codemirror_mode": {
    "name": "ipython",
    "version": 3
   },
   "file_extension": ".py",
   "mimetype": "text/x-python",
   "name": "python",
   "nbconvert_exporter": "python",
   "pygments_lexer": "ipython3",
   "version": "3.9.13"
  }
 },
 "nbformat": 4,
 "nbformat_minor": 5
}
