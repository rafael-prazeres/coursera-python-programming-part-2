{
 "cells": [
  {
   "cell_type": "markdown",
   "id": "245930c4",
   "metadata": {},
   "source": [
    "Escrever uma função que recebe uma lista de Strings contendo nomes de pessoas como parâmetro e devolve o nome mais curto. A função deve ignorar espaços antes e depois do nome e deve devolver o nome \"capitalizado\", i.e., apenas com a 1a letra maiúscula."
   ]
  },
  {
   "cell_type": "code",
   "execution_count": 51,
   "id": "a1d1c4b5",
   "metadata": {},
   "outputs": [
    {
     "name": "stdout",
     "output_type": "stream",
     "text": [
      "Passou no primeiro teste.\n"
     ]
    }
   ],
   "source": [
    "def mais_curto(lista_de_nomes):\n",
    "    mais_curto = lista_de_nomes[0].strip()\n",
    "    for i in range(1,len(lista_de_nomes)):\n",
    "        if len(mais_curto) > len(lista_de_nomes[i].strip()):\n",
    "            mais_curto = lista_de_nomes[i].strip()\n",
    "    return mais_curto.capitalize()\n",
    "\n",
    "def testa_mais_curto():\n",
    "    if mais_curto([\"      ana     \", \"joana\"]) == \"Ana\":\n",
    "        print(\"Passou no primeiro teste.\")\n",
    "    else:\n",
    "        print(\"Não passou no primeiro teste. O nome mais curto capitalizado é Ana\")\n",
    "    \n",
    "testa_mais_curto()        "
   ]
  },
  {
   "cell_type": "markdown",
   "id": "a4aedd58",
   "metadata": {},
   "source": [
    "Escreva uma função que recebe um array de strings como parâmetro e devolve o primeiro string na ordem lexicográfica, ignorando-se letras maiúsculas e minúsculas."
   ]
  },
  {
   "cell_type": "code",
   "execution_count": 75,
   "id": "9d37e307",
   "metadata": {},
   "outputs": [
    {
     "name": "stdout",
     "output_type": "stream",
     "text": [
      "Passou no primeiro teste.\n",
      "Passou no segundo teste.\n"
     ]
    }
   ],
   "source": [
    "def menor_string(lista_de_strings):\n",
    "    menor_string = lista_de_strings[0]\n",
    "    for i in range(1,len(lista_de_strings)):\n",
    "        if lista_de_strings[i].lower() < menor_string.lower():\n",
    "            menor_string = lista_de_strings[i]\n",
    "    return menor_string\n",
    "\n",
    "def testa_menor_string():\n",
    "    if menor_string([\"Nin\",\"Nan\"]) == \"Nan\":\n",
    "        print(\"Passou no primeiro teste.\")\n",
    "    else:\n",
    "        print(\"Não passou no primeiro teste.\")\n",
    "        print(\"O menor nome é Nan\")\n",
    "    if menor_string([\"Nin\",\"Nan\",\"Mama\"]) == \"Mama\":\n",
    "        print(\"Passou no segundo teste.\")\n",
    "    else:\n",
    "        print(\"Não passou no segundo teste.\")\n",
    "        print(\"O menor nome é Mama\")\n",
    "\n",
    "testa_menor_string()"
   ]
  }
 ],
 "metadata": {
  "kernelspec": {
   "display_name": "Python 3 (ipykernel)",
   "language": "python",
   "name": "python3"
  },
  "language_info": {
   "codemirror_mode": {
    "name": "ipython",
    "version": 3
   },
   "file_extension": ".py",
   "mimetype": "text/x-python",
   "name": "python",
   "nbconvert_exporter": "python",
   "pygments_lexer": "ipython3",
   "version": "3.9.12"
  }
 },
 "nbformat": 4,
 "nbformat_minor": 5
}
