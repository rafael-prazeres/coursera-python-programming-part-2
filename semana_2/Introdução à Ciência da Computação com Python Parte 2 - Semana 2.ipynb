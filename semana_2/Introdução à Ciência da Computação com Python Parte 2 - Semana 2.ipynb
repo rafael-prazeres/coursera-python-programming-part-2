{
 "cells": [
  {
   "cell_type": "markdown",
   "id": "245930c4",
   "metadata": {},
   "source": [
    "Escrever uma função que recebe uma lista de Strings contendo nomes de pessoas como parâmetro e devolve o nome mais curto. A função deve ignorar espaços antes e depois do nome e deve devolver o nome \"capitalizado\", i.e., apenas com a 1a letra maiúscula."
   ]
  },
  {
   "cell_type": "code",
   "execution_count": 10,
   "id": "a1d1c4b5",
   "metadata": {},
   "outputs": [
    {
     "name": "stdout",
     "output_type": "stream",
     "text": [
      "Passou no primeiro teste.\n",
      "Passou no segundo teste.\n",
      "Passou no terceiro teste.\n"
     ]
    }
   ],
   "source": [
    "def menor_nome(lista_de_nomes):\n",
    "    mais_curto = lista_de_nomes[0].strip()\n",
    "    for i in range(1,len(lista_de_nomes)):\n",
    "        if len(mais_curto) > len(lista_de_nomes[i].strip()):\n",
    "            mais_curto = lista_de_nomes[i].strip()\n",
    "    return mais_curto.capitalize()\n",
    "\n",
    "def testa_menor_nome():\n",
    "    if menor_nome(['maria', 'josé', 'PAULO', 'Catarina']) == \"José\":\n",
    "        print(\"Passou no primeiro teste.\")\n",
    "    else:\n",
    "        print(\"Não passou no primeiro teste. O nome mais curto capitalizado é José\")\n",
    "    if menor_nome(['maria', ' josé  ', '  PAULO', 'Catarina  ']) == \"José\":\n",
    "        print(\"Passou no segundo teste.\")\n",
    "    else:\n",
    "        print(\"Não passou no primeiro teste. O nome mais curto capitalizado é José\")\n",
    "    if menor_nome(['Bárbara', 'JOSÉ  ', 'Bill']) == \"José\":\n",
    "        print(\"Passou no terceiro teste.\")\n",
    "    else:\n",
    "        print(\"Não passou no primeiro teste. O nome mais curto capitalizado é José\")\n",
    "    \n",
    "    \n",
    "testa_menor_nome()        "
   ]
  },
  {
   "cell_type": "markdown",
   "id": "a4aedd58",
   "metadata": {},
   "source": [
    "Escreva uma função que recebe um array de strings como parâmetro e devolve o primeiro string na ordem lexicográfica, ignorando-se letras maiúsculas e minúsculas."
   ]
  },
  {
   "cell_type": "code",
   "execution_count": 2,
   "id": "9d37e307",
   "metadata": {},
   "outputs": [
    {
     "name": "stdout",
     "output_type": "stream",
     "text": [
      "Passou no primeiro teste.\n",
      "Passou no segundo teste.\n"
     ]
    }
   ],
   "source": [
    "def menor_string(lista_de_strings):\n",
    "    menor_string = lista_de_strings[0]\n",
    "    for i in range(1,len(lista_de_strings)):\n",
    "        if lista_de_strings[i].lower() < menor_string.lower():\n",
    "            menor_string = lista_de_strings[i]\n",
    "    return menor_string\n",
    "\n",
    "def testa_menor_string():\n",
    "    if menor_string([\"Nin\",\"Nan\"]) == \"Nan\":\n",
    "        print(\"Passou no primeiro teste.\")\n",
    "    else:\n",
    "        print(\"Não passou no primeiro teste.\")\n",
    "        print(\"O menor nome é Nan\")\n",
    "    if menor_string([\"Nin\",\"Nan\",\"Mama\"]) == \"Mama\":\n",
    "        print(\"Passou no segundo teste.\")\n",
    "    else:\n",
    "        print(\"Não passou no segundo teste.\")\n",
    "        print(\"O menor nome é Mama\")\n",
    "\n",
    "testa_menor_string()"
   ]
  },
  {
   "cell_type": "code",
   "execution_count": 7,
   "id": "254c4b23",
   "metadata": {},
   "outputs": [
    {
     "name": "stdout",
     "output_type": "stream",
     "text": [
      "Passou no primeiro teste.\n",
      "Passou no segundo teste.\n",
      "Passou no terceiro teste.\n"
     ]
    }
   ],
   "source": [
    "def maiusculas(frase):\n",
    "    ASCII_A = 65\n",
    "    ASCII_Z = 90\n",
    "    maiusculas = \"\"\n",
    "    for i in range(len(frase)):\n",
    "        if ord(frase[i]) > ASCII_A and ord(frase[i]) < ASCII_Z:\n",
    "            maiusculas += frase[i]\n",
    "    return maiusculas\n",
    "\n",
    "def testa_maiusculas():\n",
    "    if maiusculas('Programamos em python 2?') == \"P\":\n",
    "        print(\"Passou no primeiro teste.\")\n",
    "    # deve devolver 'P'\n",
    "\n",
    "    if maiusculas('Programamos em Python 3.') == \"PP\":\n",
    "        print(\"Passou no segundo teste.\")\n",
    "    # deve devolver 'PP'\n",
    "\n",
    "    if maiusculas('PrOgRaMaMoS em python!') == \"PORMMS\":\n",
    "        print(\"Passou no terceiro teste.\")\n",
    "    # deve devolver 'PORMMS'\n",
    "\n",
    "testa_maiusculas()\n",
    "    "
   ]
  },
  {
   "cell_type": "markdown",
   "id": "e3366c08",
   "metadata": {},
   "source": [
    "### Exercício 1: Contando vogais ou consoantes\n",
    "\n",
    "Escreva a função **conta_letras(frase, contar=\"vogais\")**, que recebe como primeiro parâmetro uma string contendo uma frase e como segundo parâmetro uma outra string. Este segundo parâmetro deve ser **opcional**.\n",
    "\n",
    "Quando o segundo parâmetro for definido como **\"vogais\"**, a função deve devolver o numero de vogais presentes na **frase**. Quando ele for definido como **\"consoantes\"**, a função deve devolver o número de consoantes presentes na **frase**. Se este parâmetro não for passado para a função, deve-se assumir o valor **\"vogais\"** para o parâmetro.\n",
    "\n",
    "Exemplos:"
   ]
  },
  {
   "cell_type": "code",
   "execution_count": 14,
   "id": "a941330c",
   "metadata": {},
   "outputs": [],
   "source": [
    "conta_letras('programamos em python')\n",
    "# deve devolver 6\n",
    "\n",
    "conta_letras('programamos em python', 'vogais')\n",
    "# deve devolver 6\n",
    "\n",
    "conta_letras('programamos em python', 'consoantes')\n",
    "# deve devolver 13"
   ]
  },
  {
   "cell_type": "code",
   "execution_count": 24,
   "id": "94a6e1e0",
   "metadata": {},
   "outputs": [
    {
     "name": "stdout",
     "output_type": "stream",
     "text": [
      "Passou no primeiro teste.\n",
      "Passou no segundo teste.\n",
      "Passou no terceiro teste.\n"
     ]
    }
   ],
   "source": [
    "def letra_e_vogal(letra):\n",
    "    return letra.lower() == \"a\" or \\\n",
    "    letra.lower() == \"e\" or \\\n",
    "    letra.lower() == \"i\" or \\\n",
    "    letra.lower() == \"o\" or \\\n",
    "    letra.lower() == \"u\"\n",
    "    \n",
    "def conta_letras(frase, contar=\"vogais\"):\n",
    "    \n",
    "    qtd_letras = 0\n",
    "    frase = frase.strip()\n",
    "    frase = frase.replace(\" \",\"\")\n",
    "    \n",
    "    if contar == \"consoantes\":\n",
    "        for i in range(len(frase)):\n",
    "            if ord(frase[i].lower()) > 96 and ord(frase[i].lower()) < 123 and not letra_e_vogal(frase[i]):\n",
    "                qtd_letras += 1\n",
    "            \n",
    "    elif contar == \"vogais\":\n",
    "        for i in range(len(frase)):\n",
    "            if letra_e_vogal(frase[i]):\n",
    "                qtd_letras += 1\n",
    "    return qtd_letras\n",
    "\n",
    "def testa_conta_letras():\n",
    "    if conta_letras('programamos em python') == 6:\n",
    "        print(\"Passou no primeiro teste.\")\n",
    "    # deve devolver 6\n",
    "\n",
    "    if conta_letras('programamos em python', contar=\"vogais\") == 6:\n",
    "        print(\"Passou no segundo teste.\")\n",
    "    # deve devolver 6\n",
    "\n",
    "    if conta_letras('programamos em python', contar=\"consoantes\") == 13:\n",
    "        print(\"Passou no terceiro teste.\")\n",
    "    # deve devolver 13\n",
    "\n",
    "testa_conta_letras()\n",
    "    "
   ]
  },
  {
   "cell_type": "markdown",
   "id": "eb490192",
   "metadata": {},
   "source": [
    "### Exercício 2: Ordem lexicográfica\n",
    "\n",
    "Como pedido no segundo vídeo da semana, escreva a função **primeiro_lex(lista)** que recebe uma lista de strings como parâmetro e devolve o primeiro string na ordem lexicográfica. Neste exercício, **considere** letras maiúsculas e minúsculas.\n",
    "\n",
    "**Dica:** revise a segunda vídeo-aula desta semana.\n",
    "\n",
    "Exemplos:"
   ]
  },
  {
   "cell_type": "code",
   "execution_count": null,
   "id": "89f07ecf",
   "metadata": {},
   "outputs": [],
   "source": [
    "primeiro_lex(['oĺá', 'A', 'a', 'casa'])\n",
    "# deve devolver 'A'\n",
    "\n",
    "primeiro_lex(['AAAAAA', 'b'])\n",
    "# deve devolver 'AAAAAA'"
   ]
  },
  {
   "cell_type": "code",
   "execution_count": 1,
   "id": "1354c4a3",
   "metadata": {},
   "outputs": [
    {
     "name": "stdout",
     "output_type": "stream",
     "text": [
      "Passou no primeiro teste.\n",
      "Passou no segundo teste.\n"
     ]
    }
   ],
   "source": [
    "def primeiro_lex(lista_de_strings):\n",
    "    menor_string = lista_de_strings[0]\n",
    "    for i in range(1,len(lista_de_strings)):\n",
    "        if lista_de_strings[i].lower() < menor_string.lower():\n",
    "            menor_string = lista_de_strings[i]\n",
    "    return menor_string\n",
    "\n",
    "def testa_menor_string():\n",
    "    if primeiro_lex(['oĺá', 'A', 'a', 'casa']) == \"A\":\n",
    "        print(\"Passou no primeiro teste.\")\n",
    "    else:\n",
    "        print(\"Não passou no primeiro teste.\")\n",
    "    if primeiro_lex(['AAAAAA', 'b']) == \"AAAAAA\":\n",
    "        print(\"Passou no segundo teste.\")\n",
    "    else:\n",
    "        print(\"Não passou no segundo teste.\")\n",
    "testa_menor_string()"
   ]
  },
  {
   "cell_type": "markdown",
   "id": "6d14b05c",
   "metadata": {},
   "source": [
    "Escreva uma função separa, que recebe um string texto e um caractere separador. A função “corta” o texto nos separadores, retornando uma lista com as palavras do texto. Exemplo: para o texto: ”,1,,2,3,” a saída deve ser a lista: [‘’, ‘1’, ‘’, ‘2’, ‘3’, ‘’] onde ‘’ indica uma palavra vazia (entre 2 separadores consecutivos)."
   ]
  },
  {
   "cell_type": "code",
   "execution_count": 47,
   "id": "d9cf9672",
   "metadata": {},
   "outputs": [
    {
     "data": {
      "text/plain": [
       "['', 'teste1', '', 'teste2', 'teste3', '']"
      ]
     },
     "execution_count": 47,
     "metadata": {},
     "output_type": "execute_result"
    }
   ],
   "source": [
    "def separa(texto, sep):\n",
    "    '''\n",
    "    (str, str) -> list\n",
    "    recebe um text e separador, e devolve o texto separado\n",
    "    '''\n",
    "    palavras = []\n",
    "    aux = 0\n",
    "    primeiro_caractere_proxima_palavra = 0\n",
    "    ultimo_caractere_texto = len(texto) - 1\n",
    "    for i in range(len(texto)):\n",
    "        # print(palavras)\n",
    "        # print(texto)\n",
    "        if texto[primeiro_caractere_proxima_palavra] == sep:\n",
    "            palavras.append(\"\")\n",
    "            primeiro_caractere_proxima_palavra = i + 1\n",
    "        elif texto[i] == sep:\n",
    "            palavras.append(texto[primeiro_caractere_proxima_palavra:i])\n",
    "            primeiro_caractere_proxima_palavra = i + 1\n",
    "        elif texto[i] == sep and texto[i+1] == sep:\n",
    "            palavras.append(\"\")\n",
    "            primeiro_caractere_proxima_palavra = i + 2\n",
    "            i += 2\n",
    "        elif i == len(texto) - 1:\n",
    "            palavras.append(texto[primeiro_caractere_proxima_palavra:len(texto)])\n",
    "    if texto[ultimo_caractere_texto] == sep:\n",
    "        palavras.append(\"\")\n",
    "\n",
    "    return palavras\n",
    "\n",
    "separa(\",teste1,,teste2,teste3,\",\",\")"
   ]
  },
  {
   "cell_type": "markdown",
   "id": "da6b7cd8",
   "metadata": {},
   "source": [
    "Usando a função do item anterior, escreva um programa que leia uma linha com palavras separadas por vírgula, e determina o comprimento da maior palavra. A linha pode conter palavras vazias."
   ]
  },
  {
   "cell_type": "code",
   "execution_count": 51,
   "id": "65de5a36",
   "metadata": {},
   "outputs": [
    {
     "name": "stdout",
     "output_type": "stream",
     "text": [
      "Digite uma linha com palavras separadas por vírgulas:teste, testeteste\n",
      "Maior palavra tem comprimento 10\n"
     ]
    }
   ],
   "source": [
    "#-----------------------------------------------\n",
    "def main():\n",
    "    '''\n",
    "    lê uma linha com palavras separadas por vírgula e\n",
    "    determina o comprimento da maior palavra.\n",
    "    '''\n",
    "    # escreva o seu programa abaixo e remova o print()\n",
    "    # print(\"Vixe! Ainda nao fiz o exercicio!\")\n",
    "    linha = input(\"Digite uma linha com palavras separadas por vírgulas:\")\n",
    "    palavras = separa(linha,\",\")\n",
    "    comprimento_maior_palavra = len(palavras[0])\n",
    "    for i in range(1,len(palavras)):\n",
    "        if len(palavras[i].strip()) > comprimento_maior_palavra:\n",
    "            comprimento_maior_palavra = len(palavras[i].strip())\n",
    "    print(\"Maior palavra tem comprimento {}\".format(comprimento_maior_palavra))\n",
    "            \n",
    "    \n",
    "\n",
    "#-----------------------------------------------\n",
    "main()"
   ]
  },
  {
   "cell_type": "markdown",
   "id": "9f38a99d",
   "metadata": {},
   "source": [
    "Escreva o programa da parte B usando a função split()."
   ]
  },
  {
   "cell_type": "code",
   "execution_count": 58,
   "id": "e65f33e8",
   "metadata": {},
   "outputs": [
    {
     "name": "stdout",
     "output_type": "stream",
     "text": [
      "Digite uma linha com palavras separadas por vírgulas:sdaf\n",
      "Maior palavra tem comprimento 4\n"
     ]
    }
   ],
   "source": [
    "#-----------------------------------------------\n",
    "def main():\n",
    "    '''\n",
    "    lê uma linha com palavras separadas por vírgula e\n",
    "    determina o comprimento da maior palavra.\n",
    "    '''\n",
    "    # escreva o seu programa abaixo e remova o print()\n",
    "    # print(\"Vixe! Ainda nao fiz o exercicio!\")\n",
    "    linha = input(\"Digite uma linha com palavras separadas por vírgulas:\")\n",
    "    palavras = linha.split(\",\")\n",
    "    # print(palavras)\n",
    "    comprimento_maior_palavra = len(palavras[0].strip())\n",
    "    for i in range(1,len(palavras)):\n",
    "        if len(palavras[i].strip()) > comprimento_maior_palavra:\n",
    "            comprimento_maior_palavra = len(palavras[i].strip())\n",
    "    print(\"Maior palavra tem comprimento {}\".format(comprimento_maior_palavra))\n",
    "            \n",
    "    \n",
    "\n",
    "#-----------------------------------------------\n",
    "main()"
   ]
  },
  {
   "cell_type": "markdown",
   "id": "9f1b34fc",
   "metadata": {},
   "source": [
    "Escreva um programa que leia vários números reais em uma mesma linha, e imprima a soma."
   ]
  },
  {
   "cell_type": "code",
   "execution_count": 63,
   "id": "92cbbd83",
   "metadata": {},
   "outputs": [
    {
     "name": "stdout",
     "output_type": "stream",
     "text": [
      "Digite os números reais a serem somados: 32\n",
      "A soma dos números 32 deu: 32.0\n"
     ]
    }
   ],
   "source": [
    "#-----------------------------------------------\n",
    "def main():\n",
    "    '''\n",
    "    lê uma linha com numeros reais e calcula a soma dos numeros\n",
    "    '''\n",
    "    # escreva o seu programa abaixo e remova o print()\n",
    "    linha = input(\"Digite os números reais a serem somados: \")\n",
    "    numeros = linha.split()\n",
    "    soma = 0\n",
    "    for numero in numeros:\n",
    "        soma += float(numero)\n",
    "    \n",
    "    print(\"A soma dos números {} deu: {}\".format(linha, soma))\n",
    "\n",
    "#-----------------------------------------------\n",
    "main()\n"
   ]
  },
  {
   "cell_type": "markdown",
   "id": "161b4e2a",
   "metadata": {},
   "source": [
    "Escreva um programa que leia um arquivo contendo ao menos 1 número real por linha, e para cada linha imprima a sua soma. Ao final, o programa deve imprimir também a soma total. Exemplo: para o arquivo numeros.txt com:"
   ]
  },
  {
   "cell_type": "raw",
   "id": "0e985272",
   "metadata": {},
   "source": [
    "5 4 3 2 1\n",
    "4 4 4\n",
    "2.7\n",
    "3.14 2.1"
   ]
  },
  {
   "cell_type": "markdown",
   "id": "59e4cb75",
   "metadata": {},
   "source": [
    "a saída deve ser:"
   ]
  },
  {
   "cell_type": "raw",
   "id": "5f3a904d",
   "metadata": {},
   "source": [
    "Digite o nome do arquivo: numeros.txt\n",
    "Soma = 15.000000\n",
    "Soma = 12.000000\n",
    "Soma = 2.700000\n",
    "Soma = 5.240000\n",
    "Total = 34.940000"
   ]
  },
  {
   "cell_type": "code",
   "execution_count": 27,
   "id": "b6e031a1",
   "metadata": {},
   "outputs": [
    {
     "name": "stdout",
     "output_type": "stream",
     "text": [
      "Digite o nome do arquivo: numeros.txt\n",
      "Soma = 15.000000\n",
      "Soma = 12.000000\n",
      "Soma = 2.700000\n",
      "Soma = 5.240000\n",
      "Total = 34.940000\n"
     ]
    }
   ],
   "source": [
    "def soma_linha(linha):\n",
    "    numeros = linha.split()\n",
    "    soma = 0\n",
    "    for numero in numeros:\n",
    "        soma += float(numero)\n",
    "    return soma\n",
    "\n",
    "def main():\n",
    "    nome_arquivo = input(\"Digite o nome do arquivo: \")\n",
    "    with open(nome_arquivo, 'r', encoding='utf-8') as arquivo:\n",
    "        total = 0\n",
    "        for linha in arquivo:\n",
    "            soma = soma_linha(linha)\n",
    "            print(\"Soma = %6f\"%(soma))\n",
    "            total += soma\n",
    "        print(\"Total = %6f\"%(total))\n",
    "\n",
    "main()"
   ]
  },
  {
   "cell_type": "code",
   "execution_count": 30,
   "id": "8a139c6d",
   "metadata": {},
   "outputs": [
    {
     "name": "stdout",
     "output_type": "stream",
     "text": [
      "Informe um número inteiro positivo: 14\n",
      "1º termo [1/1]: 1.00000000000000000\n",
      "2º termo [1/2]: 0.50000000000000000\n",
      "3º termo [1/3]: 0.33333333333333331\n",
      "4º termo [1/4]: 0.25000000000000000\n",
      "5º termo [1/5]: 0.20000000000000001\n",
      "6º termo [1/6]: 0.16666666666666666\n",
      "7º termo [1/7]: 0.14285714285714285\n",
      "8º termo [1/8]: 0.12500000000000000\n",
      "9º termo [1/9]: 0.11111111111111110\n",
      "10º termo [1/10]: 0.10000000000000001\n",
      "11º termo [1/11]: 0.09090909090909091\n",
      "12º termo [1/12]: 0.08333333333333333\n",
      "13º termo [1/13]: 0.07692307692307693\n",
      "14º termo [1/14]: 0.07142857142857142\n",
      "H = 3.25156232656232680\n",
      "14º termo [1/14]: 0.07142857142857142\n",
      "13º termo [1/13]: 0.07692307692307693\n",
      "12º termo [1/12]: 0.08333333333333333\n",
      "11º termo [1/11]: 0.09090909090909091\n",
      "10º termo [1/10]: 0.10000000000000001\n",
      "9º termo [1/9]: 0.11111111111111110\n",
      "8º termo [1/8]: 0.12500000000000000\n",
      "7º termo [1/7]: 0.14285714285714285\n",
      "6º termo [1/6]: 0.16666666666666666\n",
      "5º termo [1/5]: 0.20000000000000001\n",
      "4º termo [1/4]: 0.25000000000000000\n",
      "3º termo [1/3]: 0.33333333333333331\n",
      "2º termo [1/2]: 0.50000000000000000\n",
      "1º termo [1/1]: 1.00000000000000000\n",
      "H = 3.25156232656232635\n"
     ]
    }
   ],
   "source": [
    "def main():\n",
    "    n = int(input(\"Informe um número inteiro positivo: \"))\n",
    "    H = 0\n",
    "    for i in range(1,n+1):\n",
    "        print(\"{0}º termo [1/{1}]: {2:.17f}\".format(i, i, 1/i))\n",
    "        H += 1/i\n",
    "    print(\"H = {0:.17f}\".format(H))\n",
    "    H = 0\n",
    "    for i in range(n,0,-1):\n",
    "        print(\"{0}º termo [1/{1}]: {2:.17f}\".format(i, i, 1/i))\n",
    "        H += 1/i\n",
    "    print(\"H = {0:.17f}\".format(H))\n",
    "    \n",
    "\n",
    "main()"
   ]
  }
 ],
 "metadata": {
  "kernelspec": {
   "display_name": "Python 3 (ipykernel)",
   "language": "python",
   "name": "python3"
  },
  "language_info": {
   "codemirror_mode": {
    "name": "ipython",
    "version": 3
   },
   "file_extension": ".py",
   "mimetype": "text/x-python",
   "name": "python",
   "nbconvert_exporter": "python",
   "pygments_lexer": "ipython3",
   "version": "3.9.13"
  }
 },
 "nbformat": 4,
 "nbformat_minor": 5
}
